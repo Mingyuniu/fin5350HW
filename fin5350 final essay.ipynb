{
 "cells": [
  {
   "cell_type": "markdown",
   "metadata": {},
   "source": [
    "Mingyu Niu<br>\n",
    "A02023845<br>\n",
    "FIn5350<br>"
   ]
  },
  {
   "cell_type": "markdown",
   "metadata": {},
   "source": [
    "### What should Computational Economists do?\n"
   ]
  },
  {
   "cell_type": "markdown",
   "metadata": {},
   "source": [
    "<br><br>\n",
    "  To discuss what should computational economists do, we would need firstly define what is economic. After that, we have a base of what kind of role computation economists play in the economic. \n",
    "\n",
    "  I still remembered, during my first Economic class, my first economic professor taught us， economics is a social science regarding the production, distribution, and consumption of good and service. It studies how individual and group allocate scared source to satisfy their need. It was very straight-forward for me to understand the concept of that. As for economists, they are the one to dive into the social science to maximum the utility of all kind of scarce resource. After I read the paper of James’s what should economists do, I totally agree what he claimed about the subject of economists today. He said, “Man’s behavior in the market relationship, reflecting the propensity to truck and to barter, and the manifold variations in structure that this relationship can take; thses are the proper subjects for the economist’s study (Buchanan, pg 214).” This analogy was quite right. They are the right one to discover the rule, and more importantly, guide our society to maximum the utility of scare resource. However, since I choose Economic and Finance major, the biggest concern is how could we 100% sure those theory is correct at the same time with discovering those rule and theory? The answer is computational economists. \n",
    "\n",
    "  Economists provided us tools and theories to solve economic question. Basically, they provide us the tools, but how could we make sure those tools and theory are 100% correct. Economists discover and summary those theories by doing long-time observation on numerous experiment object. Those paths of discovery are time-consuming and low efficient. That is the major reason why the word computational economist exists.\n",
    "\n",
    "  As far as I concerned, there are two roles of computational economist. Firstly, they assist economist to exam the economic theory and concept. Secondly, they are creating a new methodology to speed up the paths of discovery. At the pointing time, it reminded me of what Mark Reicher said in his Bringing Computation into the economist’s Toolkit. He claimed that “Computational problem solving advances are opening new paths for economists to further understand an increasingly complex economy (Reicher).” I completely agree what he claimed there. When we are facing an increasingly complex economy, computation is a high-efficient methodology to help economist in their path. In the traditional paths of developing economic, it usually takes longer time and more resource to exanimate the truth and effectiveness of the new theory and methodology. \n",
    "\n",
    "  As I am learning more knowledge about the computational model, I could feel how serious the role of computation economists. For example, during the fall semester, I learned the difference and difference model. In my opinion, it was a computation economic model. We used it to analyze the minimum wage difference between two border upon state in order to dive in the detail reasons why the difference occurs. Can you assume how much time it would take if we only use the statistics method to conduct this kind of research? Even though we get result, that just random data. Without the economic theory, it could explain nothing. If we only use the economic method to conduct this research, it could provide the theory base and economic explanation, but it is hard to prove the truth and effectiveness. \n",
    "\n",
    "  Computation economic combines the pro of both statistics and economic. It provides firm theory base and use the computation method to examine it during the whole discover process. There are three processes regarding the topic of what should computation economists do. First, before they conduct any research or the path of discovery. They should build an initial theoretical base for the research. To explain that, I would like to bring up what Mark said on the University of Chicago, “Achieving these aims will require rethinking and altering some of the analytical frameworks used by economists (Reicher).” That would be the first step, which could be look as a guide or blue print. Second, on their path to conduct the research, they would need to use the computation methodology during the whole process to make sure the accuracy of experiment result. The last step is very common but the most important one. They would need to explain the whole process to society, especially what kind of model they used and what kind of data they used to examine the theoretical framework. They would need to be patient during the last step. Compared with the traditional economists with solely economic model, computation economists are more convincing.\n",
    "\n",
    "  Thought computation economists could promo the whole process into the new level. Economists are still necessary for providing the theoretical framework. Generally, creating theoretical framework, combining with computation methodology, and being patient to explain the whole process are the three steps what computation economists should do. \n",
    "\n",
    "\n",
    "\n",
    "\n",
    "\n",
    "\n",
    "\n",
    "\n",
    "\n",
    "\n",
    "\n",
    "### Works Cited\n",
    " - Buchanan, James M. \"What should economists do?\" Southern Economic Journal (1964): 213-222.\n",
    " - Mark Reichers. “Bringing computation into economists toolkit.” Becker Friedman Institute. August 11, 2016.\n",
    " - Ben Brooks. “August conference on computation and economic theory”(Economic Speech). Becker Friedman Institute. August 11, 2016\n"
   ]
  },
  {
   "cell_type": "code",
   "execution_count": null,
   "metadata": {
    "collapsed": true
   },
   "outputs": [],
   "source": []
  }
 ],
 "metadata": {
  "kernelspec": {
   "display_name": "Python 3",
   "language": "python",
   "name": "python3"
  },
  "language_info": {
   "codemirror_mode": {
    "name": "ipython",
    "version": 3
   },
   "file_extension": ".py",
   "mimetype": "text/x-python",
   "name": "python",
   "nbconvert_exporter": "python",
   "pygments_lexer": "ipython3",
   "version": "3.6.1"
  }
 },
 "nbformat": 4,
 "nbformat_minor": 2
}
